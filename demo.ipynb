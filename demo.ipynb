{
 "cells": [
  {
   "cell_type": "code",
   "execution_count": null,
   "metadata": {},
   "outputs": [],
   "source": [
    "from langchain.chains import ConversationalRetrievalChain\n",
    "from langchain_anthropic import ChatAnthropic\n",
    "from langchain.vectorstores import Chroma\n",
    "from langchain_community.document_loaders import WebBaseLoader\n",
    "from langchain.memory import ConversationBufferMemory\n",
    "from langchain_google_genai import GoogleGenerativeAIEmbeddings\n",
    "\n",
    "embeddings = GoogleGenerativeAIEmbeddings(\n",
    "    model=\"models/embedding-001\", google_api_key=os.getenv(\"GOOGLE_API_KEY\")\n",
    ")\n",
    "import os\n",
    "\n",
    "# Load documents\n",
    "loader = WebBaseLoader(\"https://www.anthropic.com/claude\")\n",
    "documents = loader.load()\n",
    "\n",
    "embeddings = GoogleGenerativeAIEmbeddings(\n",
    "    model=\"models/embedding-001\", api_key=os.getenv(\"GOOGLE_API_KEY\")\n",
    ")\n",
    "\n",
    "# Create vector store\n",
    "vector_store = Chroma.from_documents(documents, embeddings)\n",
    "\n",
    "# Initialize conversation memory\n",
    "memory = ConversationBufferMemory(memory_key=\"chat_history\")\n",
    "\n",
    "# Initialize language model\n",
    "llm = ChatAnthropic(\n",
    "    anthropic_api_key=os.getenv(\"ANTHROPIC_API_KEY\"),\n",
    "    model=\"claude-3-sonnet-20240229\",\n",
    "    temperature=0.2,\n",
    "    max_tokens=1024,\n",
    ")\n",
    "\n",
    "# Create the chain\n",
    "qa = ConversationalRetrievalChain.from_llm(\n",
    "    llm, vector_store.as_retriever(), memory=memory\n",
    ")\n",
    "\n",
    "# Start the conversation\n",
    "chat_history = []\n",
    "query = \"What is Anthropics lightest model?\"\n",
    "result = qa({\"question\": query, \"chat_history\": chat_history})\n",
    "print(result[\"answer\"])\n",
    "\n",
    "# Continue the conversation\n",
    "query = \"What The most intelliigent?\"\n",
    "chat_history = result[\"chat_history\"]\n",
    "result = qa({\"question\": query, \"chat_history\": chat_history})\n",
    "print(result[\"answer\"])"
   ]
  }
 ],
 "metadata": {
  "kernelspec": {
   "display_name": ".lc_venv",
   "language": "python",
   "name": "python3"
  },
  "language_info": {
   "name": "python",
   "version": "3.10.12"
  }
 },
 "nbformat": 4,
 "nbformat_minor": 2
}
